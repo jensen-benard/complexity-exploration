{
 "cells": [
  {
   "cell_type": "markdown",
   "id": "5d9f8365-2a88-46c8-9a94-359fa859c8e7",
   "metadata": {},
   "source": [
    "## Logistic Map Function Exploration"
   ]
  },
  {
   "cell_type": "code",
   "execution_count": 1,
   "id": "f9910791-324c-4e26-9e3e-367559ec7e06",
   "metadata": {},
   "outputs": [],
   "source": [
    "%matplotlib inline\n",
    "\n",
    "import matplotlib.pyplot as plt\n",
    "from ipywidgets import *\n",
    "import numpy as np"
   ]
  },
  {
   "cell_type": "code",
   "execution_count": 7,
   "id": "e579e0b6-b2ac-400d-b012-f2c4ab9283aa",
   "metadata": {},
   "outputs": [
    {
     "data": {
      "application/vnd.jupyter.widget-view+json": {
       "model_id": "ed82b145793947a6a5a0d12342a5b79e",
       "version_major": 2,
       "version_minor": 0
      },
      "text/plain": [
       "interactive(children=(FloatSlider(value=2.0, description='r', max=4.0, step=0.01), FloatSlider(value=0.0, desc…"
      ]
     },
     "metadata": {},
     "output_type": "display_data"
    }
   ],
   "source": [
    "@interact(r=(0, 4, 0.01), x0=(0, 1, 0.01), N=(1, 2000, 10))\n",
    "def logistic_map_plot_iterations(r, x0, N):\n",
    "    plt.cla()\n",
    "    \n",
    "    x = [x0]\n",
    "    for i in range(N):\n",
    "        x.append(r * x[i] * (1 - x[i]))\n",
    "\n",
    "    n = np.arange(N+1)\n",
    "\n",
    "    plt.plot(n, x)\n",
    "    plt.grid()\n",
    "    plt.show()"
   ]
  },
  {
   "cell_type": "code",
   "execution_count": 5,
   "id": "3c3a9af5-6652-4faa-8568-713ee76f0d03",
   "metadata": {},
   "outputs": [
    {
     "data": {
      "application/vnd.jupyter.widget-view+json": {
       "model_id": "4f3c46a90e5e4dce9272560b9679191f",
       "version_major": 2,
       "version_minor": 0
      },
      "text/plain": [
       "interactive(children=(FloatSlider(value=2.0, description='r', max=4.0, step=0.01), IntSlider(value=500, descri…"
      ]
     },
     "metadata": {},
     "output_type": "display_data"
    }
   ],
   "source": [
    "@interact(r=(0, 4, 0.01), N_x=(10, 1000, 10))\n",
    "def logistic_map_plot_input_output(r, N_x):\n",
    "    plt.cla()\n",
    "\n",
    "    x = np.linspace(0, 1, N_x)\n",
    "    y = r * x * (1 - x)\n",
    "\n",
    "    plt.plot(x, y)\n",
    "    plt.grid()\n",
    "    plt.show()"
   ]
  }
 ],
 "metadata": {
  "kernelspec": {
   "display_name": "logisticmap_kernel",
   "language": "python",
   "name": "logisticmap_kernel"
  },
  "language_info": {
   "codemirror_mode": {
    "name": "ipython",
    "version": 3
   },
   "file_extension": ".py",
   "mimetype": "text/x-python",
   "name": "python",
   "nbconvert_exporter": "python",
   "pygments_lexer": "ipython3",
   "version": "3.13.0"
  }
 },
 "nbformat": 4,
 "nbformat_minor": 5
}
