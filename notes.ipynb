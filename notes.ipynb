{
 "cells": [
  {
   "cell_type": "markdown",
   "id": "5d9f8365-2a88-46c8-9a94-359fa859c8e7",
   "metadata": {},
   "source": [
    "## Logistic Map Function Exploration"
   ]
  },
  {
   "cell_type": "code",
   "execution_count": 17,
   "id": "f9910791-324c-4e26-9e3e-367559ec7e06",
   "metadata": {},
   "outputs": [],
   "source": [
    "%matplotlib inline\n",
    "\n",
    "import matplotlib.pyplot as plt\n",
    "from ipywidgets import *\n",
    "import numpy as np"
   ]
  },
  {
   "cell_type": "code",
   "execution_count": 25,
   "id": "e579e0b6-b2ac-400d-b012-f2c4ab9283aa",
   "metadata": {},
   "outputs": [
    {
     "data": {
      "application/vnd.jupyter.widget-view+json": {
       "model_id": "5a0773edd10e4977bc6986139c572c8f",
       "version_major": 2,
       "version_minor": 0
      },
      "text/plain": [
       "interactive(children=(FloatSlider(value=2.0, description='r', max=4.0, step=0.01), FloatSlider(value=0.0, desc…"
      ]
     },
     "metadata": {},
     "output_type": "display_data"
    }
   ],
   "source": [
    "@interact(r=(0, 4, 0.01), x0=(0, 1, 0.01), N=(1, 2000, 10))\n",
    "def logistic_map_plot_iterations(r, x0, N):\n",
    "    plt.cla()\n",
    "    \n",
    "    x = [x0]\n",
    "    for i in range(N):\n",
    "        x.append(r * x[i] * (1 - x[i]))\n",
    "\n",
    "    n = np.arange(N+1)\n",
    "\n",
    "    plt.plot(n, x)\n",
    "    plt.xlabel(\"Iteration\")\n",
    "    plt.ylabel(\"Output\")\n",
    "    plt.grid()\n",
    "    plt.show()"
   ]
  },
  {
   "cell_type": "code",
   "execution_count": 19,
   "id": "3c3a9af5-6652-4faa-8568-713ee76f0d03",
   "metadata": {},
   "outputs": [
    {
     "data": {
      "application/vnd.jupyter.widget-view+json": {
       "model_id": "aed3eaca0de147efab79b0f7cb385c13",
       "version_major": 2,
       "version_minor": 0
      },
      "text/plain": [
       "interactive(children=(FloatSlider(value=2.0, description='r', max=4.0, step=0.01), IntSlider(value=500, descri…"
      ]
     },
     "metadata": {},
     "output_type": "display_data"
    }
   ],
   "source": [
    "@interact(r=(0, 4, 0.01), N_x=(10, 1000, 10))\n",
    "def logistic_map_plot_input_output(r, N_x):\n",
    "    plt.cla()\n",
    "\n",
    "    x = np.linspace(0, 1, N_x)\n",
    "    y = r * x * (1 - x)\n",
    "\n",
    "    plt.plot(x, y)\n",
    "    plt.xlabel(\"Input\")\n",
    "    plt.ylabel(\"Output\")\n",
    "    plt.grid()\n",
    "    plt.show()"
   ]
  },
  {
   "cell_type": "code",
   "execution_count": null,
   "id": "78c076f9-d579-4ac8-8183-0b2ccf1f9f6b",
   "metadata": {},
   "outputs": [],
   "source": [
    "@interact(x0=FloatSlider(value=0.5, min=0, max=1, step=0.01, layout=Layout(width='50%')), \n",
    "          r_range=FloatRangeSlider(value=[0, 4], min=0, max=4, step=0.0000000001, readout_format='.10', layout=Layout(width='50%')), \n",
    "          r_count=IntSlider(value=500, min=0, max=10000, step=10, layout=Layout(width='50%')), \n",
    "          N_transient=IntSlider(value=1000, min=0, max=2000, step=10, layout=Layout(width='50%')), \n",
    "          N_steady_state=IntSlider(value=1000, min=0, max=2000, step=10, layout=Layout(width='50%')), \n",
    "          marker_width=FloatSlider(value=0.001, min=0.00001, max=0.1, step=0.000001, readout_format='.4', layout=Layout(width='50%')))\n",
    "def logistic_map_plot_steady_state(x0, r_range, r_count, N_transient, N_steady_state, marker_width):\n",
    "    plt.cla()\n",
    "    \n",
    "    r_start = r_range[0]\n",
    "    r_end = r_range[1]\n",
    "    r_list = np.linspace(r_start, r_end, r_count)\n",
    "\n",
    "    N_transient = 100\n",
    "    N_steady_state = 100\n",
    "\n",
    "    xss = []\n",
    "\n",
    "    count = 0\n",
    "    count_limit = len(r_list) / 100\n",
    "    \n",
    "    progress_bar_calc = IntProgress(value=0, min=0, max=len(r_list), description=\"Calculation:\")\n",
    "    display(progress_bar_calc)\n",
    "    for r in r_list:\n",
    "        count += 1\n",
    "\n",
    "        if count > count_limit:\n",
    "            progress_bar_calc.value += count\n",
    "            count = 0\n",
    "            \n",
    "        x_r = [x0]\n",
    "        \n",
    "        for i in range(N_transient):\n",
    "            x_r.append(r * x_r[i] * (1 - x_r[i]))\n",
    "\n",
    "        x_r = [x_r[-1]]\n",
    "        for i in range(N_steady_state):\n",
    "            x_r.append(r * x_r[i] * (1 - x_r[i]))\n",
    "\n",
    "        xss.append(x_r)\n",
    "\n",
    "\n",
    "    count = 0\n",
    "    progress_bar_plot = IntProgress(value=0, min=0, max=len(r_list), description='Plotting:')\n",
    "    display(progress_bar_plot)\n",
    "    for x, y in zip(r_list, xss):\n",
    "        count += 1\n",
    "        if (count > count_limit):\n",
    "            progress_bar_plot.value += count\n",
    "            count = 0\n",
    "            \n",
    "        plt.scatter([x] * len(y), y, s=marker_width, c='black')\n",
    "\n",
    "    plt.grid()\n",
    "    plt.xlabel(\"r value\")\n",
    "    plt.ylabel(\"x steady state\")\n",
    "    plt.show()"
   ]
  }
 ],
 "metadata": {
  "kernelspec": {
   "display_name": "logisticmap_kernel",
   "language": "python",
   "name": "logisticmap_kernel"
  },
  "language_info": {
   "codemirror_mode": {
    "name": "ipython",
    "version": 3
   },
   "file_extension": ".py",
   "mimetype": "text/x-python",
   "name": "python",
   "nbconvert_exporter": "python",
   "pygments_lexer": "ipython3",
   "version": "3.13.0"
  }
 },
 "nbformat": 4,
 "nbformat_minor": 5
}
