{
 "cells": [
  {
   "cell_type": "markdown",
   "id": "5d9f8365-2a88-46c8-9a94-359fa859c8e7",
   "metadata": {},
   "source": [
    "# Logistic Map Function Exploration\n",
    "Explore the logistic map:\n",
    "$$ x_{i} = rx_{i-1}(1 - x_{x-1}) $$"
   ]
  },
  {
   "cell_type": "code",
   "execution_count": 1,
   "id": "f9910791-324c-4e26-9e3e-367559ec7e06",
   "metadata": {},
   "outputs": [],
   "source": [
    "%matplotlib ipympl\n",
    "\n",
    "import matplotlib.pyplot as plt\n",
    "from ipywidgets import *\n",
    "import numpy as np"
   ]
  },
  {
   "cell_type": "code",
   "execution_count": 2,
   "id": "a51c67ae-6101-4b96-be53-decfe63f2a36",
   "metadata": {},
   "outputs": [],
   "source": [
    "def is_notebook():\n",
    "    try:\n",
    "        shell = get_ipython().__class__.__name__\n",
    "        return shell == 'ZMQInteractiveShell'\n",
    "    except NameError:\n",
    "        return False"
   ]
  },
  {
   "cell_type": "markdown",
   "id": "f97c7d87-5030-427a-bd72-48440ac3dd1b",
   "metadata": {},
   "source": [
    "## Plotting $x_i$ over $N$ iterations"
   ]
  },
  {
   "cell_type": "code",
   "execution_count": 3,
   "id": "e579e0b6-b2ac-400d-b012-f2c4ab9283aa",
   "metadata": {},
   "outputs": [
    {
     "data": {
      "application/vnd.jupyter.widget-view+json": {
       "model_id": "03e236bb85f547068f4c5fa1f1cf4361",
       "version_major": 2,
       "version_minor": 0
      },
      "text/plain": [
       "interactive(children=(FloatSlider(value=1.0, description='r', max=4.0, step=0.01), FloatSlider(value=0.5, desc…"
      ]
     },
     "metadata": {},
     "output_type": "display_data"
    }
   ],
   "source": [
    "@interact_manual(\n",
    "    r=FloatSlider(value=1, min=0, max=4, step=0.01), \n",
    "    x0=FloatSlider(value=0.5, min=0, max=1, step=0.01), \n",
    "    N=IntSlider(value=1000, min=1, max=10000, step=10))\n",
    "def logistic_map_plot_iterations(r, x0, N):\n",
    "    plt.close()\n",
    "\n",
    "    x = np.empty(N)\n",
    "    x[0] = x0\n",
    "\n",
    "    progress_bar_update_interval = 5\n",
    "\n",
    "    progress_bar_calc = IntProgress(value=0, min=0, max=len(x), description=\"Calculation:\")\n",
    "    display(progress_bar_calc)\n",
    "    \n",
    "    for i in range(1, N):\n",
    "        x[i] = r * x[i-1] * (1 - x[i-1])\n",
    "\n",
    "        if i % progress_bar_update_interval == 0:\n",
    "            progress_bar_calc.value = i\n",
    "\n",
    "    print(\"Plotting...\")\n",
    "    n = np.arange(N)\n",
    "\n",
    "    fig, ax = plt.subplots()\n",
    "    ax.plot(n, x)\n",
    "    ax.set_xlabel(\"Iteration\")\n",
    "    ax.set_ylabel(\"Output\")\n",
    "    ax.grid()\n",
    "    print(\"Drawing...\")\n",
    "    plt.show()\n"
   ]
  },
  {
   "cell_type": "markdown",
   "id": "0e30bc4b-a2b8-4e89-9a17-c7a3d13bff7f",
   "metadata": {},
   "source": [
    "## Plotting $y = x_i$ (output) for each $x_{i-1}$ (input)"
   ]
  },
  {
   "cell_type": "code",
   "execution_count": 4,
   "id": "3c3a9af5-6652-4faa-8568-713ee76f0d03",
   "metadata": {},
   "outputs": [
    {
     "data": {
      "application/vnd.jupyter.widget-view+json": {
       "model_id": "e96c2ea8c20945c094923fd15e5b8b07",
       "version_major": 2,
       "version_minor": 0
      },
      "text/plain": [
       "interactive(children=(FloatSlider(value=1.0, description='r', max=4.0, step=0.01), IntSlider(value=1000, descr…"
      ]
     },
     "metadata": {},
     "output_type": "display_data"
    }
   ],
   "source": [
    "@interact_manual(\n",
    "    r=FloatSlider(value=1, min=0, max=4, step=0.01), \n",
    "    N_x=IntSlider(value=1000, min=1, max=2000, step=10))\n",
    "def logistic_map_plot_input_output(r, N_x):\n",
    "    plt.close()\n",
    "    \n",
    "    x = np.linspace(0, 1, N_x)\n",
    "    y = r * x * (1 - x)\n",
    "\n",
    "    fig, ax = plt.subplots()\n",
    "    ax.plot(x, y)\n",
    "    ax.set_xlabel(\"Input\")\n",
    "    ax.set_ylabel(\"Output\")\n",
    "    ax.grid()\n",
    "    plt.show()"
   ]
  },
  {
   "cell_type": "markdown",
   "id": "fba0415d-ada0-4955-8c09-b71f9d16f0f5",
   "metadata": {},
   "source": [
    "## Plotting the bifurcation diagram of the logistic map"
   ]
  },
  {
   "cell_type": "code",
   "execution_count": 5,
   "id": "78c076f9-d579-4ac8-8183-0b2ccf1f9f6b",
   "metadata": {},
   "outputs": [
    {
     "data": {
      "application/vnd.jupyter.widget-view+json": {
       "model_id": "674c1c85b2f445edb02b382c8c695230",
       "version_major": 2,
       "version_minor": 0
      },
      "text/plain": [
       "interactive(children=(FloatSlider(value=0.5, description='x0', layout=Layout(width='50%'), max=1.0, step=0.01)…"
      ]
     },
     "metadata": {},
     "output_type": "display_data"
    }
   ],
   "source": [
    "@interact_manual(x0=FloatSlider(value=0.5, min=0, max=1, step=0.01, layout=Layout(width='50%')), \n",
    "          r_range=FloatRangeSlider(value=[0, 4], min=0, max=4, step=0.0000000001, readout_format='.10', layout=Layout(width='50%')), \n",
    "          r_count=IntSlider(value=500, min=0, max=10000, step=10, layout=Layout(width='50%')), \n",
    "          N_transient=IntSlider(value=1000, min=1, max=2000, step=10, layout=Layout(width='50%')), \n",
    "          N_steady_state=IntSlider(value=1000, min=1, max=2000, step=10, layout=Layout(width='50%')), \n",
    "          marker_width=FloatSlider(value=0.001, min=0.00001, max=0.1, step=0.000001, readout_format='.4', layout=Layout(width='50%')))\n",
    "def logistic_map_plot_steady_state(x0, r_range, r_count, N_transient, N_steady_state, marker_width):\n",
    "    plt.close()\n",
    "    r_start = r_range[0]\n",
    "    r_end = r_range[1]\n",
    "    r_list = np.linspace(r_start, r_end, r_count)\n",
    "\n",
    "\n",
    "    progress_bar_update_interval = 5\n",
    "\n",
    "    progress_bar_calc = IntProgress(value=0, min=0, max=len(r_list), description=\"Calculation:\")\n",
    "    display(progress_bar_calc)\n",
    "\n",
    "    fig, ax = plt.subplots()\n",
    "\n",
    "    r_vals = []\n",
    "    x_vals = []\n",
    "    for index, r in enumerate(r_list):\n",
    "        \n",
    "        if index % progress_bar_update_interval == 0:\n",
    "            progress_bar_calc.value = index\n",
    "            \n",
    "        prev_x = x0\n",
    "        next_x = 0\n",
    "        for i in range(N_transient):\n",
    "            next_x = r * prev_x * (1 - prev_x)\n",
    "            prev_x = next_x\n",
    "\n",
    "        x_r = np.empty(N_steady_state)\n",
    "        x_r[0] = prev_x\n",
    "        for i in range(1, N_steady_state):\n",
    "            x_r[i] = r * x_r[i - 1] * (1 - x_r[i - 1])\n",
    "\n",
    "        x_r = np.unique(x_r)\n",
    "        \n",
    "        r_vals.extend([r] * len(x_r))\n",
    "        x_vals.extend(x_r)\n",
    "\n",
    "    print(\"Plotting...\")\n",
    "    ax.scatter(r_vals, x_vals, s=marker_width, c='black', alpha=1)\n",
    "\n",
    "    ax.grid()\n",
    "    ax.set_xlabel(\"r value\")\n",
    "    ax.set_ylabel(\"x steady state\")\n",
    "\n",
    "    print(\"Drawing to screen...\")\n",
    "    plt.show()"
   ]
  },
  {
   "cell_type": "code",
   "execution_count": null,
   "id": "6c795646-5a20-4c5d-baa5-b4ff8e596411",
   "metadata": {},
   "outputs": [],
   "source": []
  }
 ],
 "metadata": {
  "kernelspec": {
   "display_name": "logisticmap_kernel",
   "language": "python",
   "name": "logisticmap_kernel"
  },
  "language_info": {
   "codemirror_mode": {
    "name": "ipython",
    "version": 3
   },
   "file_extension": ".py",
   "mimetype": "text/x-python",
   "name": "python",
   "nbconvert_exporter": "python",
   "pygments_lexer": "ipython3",
   "version": "3.13.0"
  }
 },
 "nbformat": 4,
 "nbformat_minor": 5
}
